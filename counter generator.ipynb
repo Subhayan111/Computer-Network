{
 "cells": [
  {
   "cell_type": "code",
   "execution_count": 1,
   "id": "a0b4e3ba-cbdb-4c74-b769-23614fdedc4f",
   "metadata": {},
   "outputs": [
    {
     "name": "stdin",
     "output_type": "stream",
     "text": [
      "Enter the starting number:  2\n",
      "Enter the ending number:  20\n",
      "Enter the step size (default is 1):  2\n"
     ]
    },
    {
     "name": "stdout",
     "output_type": "stream",
     "text": [
      "Generated sequence from 2 to 19 with step 2:\n",
      "2\n",
      "4\n",
      "6\n",
      "8\n",
      "10\n",
      "12\n",
      "14\n",
      "16\n",
      "18\n"
     ]
    }
   ],
   "source": [
    "def counter(start, stop, step=1):\n",
    "    current = start\n",
    "    while current < stop:\n",
    "        yield current\n",
    "        current += step\n",
    "        \n",
    "start = int(input(\"Enter the starting number: \"))\n",
    "stop = int(input(\"Enter the ending number: \"))\n",
    "step = int(input(\"Enter the step size (default is 1): \"))\n",
    "\n",
    "# Using the counter generator\n",
    "print(f\"Generated sequence from {start} to {stop-1} with step {step}:\")\n",
    "for num in counter(start, stop, step):\n",
    "    print(num)\n"
   ]
  },
  {
   "cell_type": "code",
   "execution_count": null,
   "id": "7935f2b5-ab11-4d4e-874f-ed919c4d97ad",
   "metadata": {},
   "outputs": [],
   "source": []
  }
 ],
 "metadata": {
  "kernelspec": {
   "display_name": "Python 3 (ipykernel)",
   "language": "python",
   "name": "python3"
  },
  "language_info": {
   "codemirror_mode": {
    "name": "ipython",
    "version": 3
   },
   "file_extension": ".py",
   "mimetype": "text/x-python",
   "name": "python",
   "nbconvert_exporter": "python",
   "pygments_lexer": "ipython3",
   "version": "3.11.2"
  }
 },
 "nbformat": 4,
 "nbformat_minor": 5
}
