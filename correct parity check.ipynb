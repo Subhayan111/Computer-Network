{
 "cells": [
  {
   "cell_type": "code",
   "execution_count": 5,
   "id": "e70dc075-ab77-484a-a52c-5d07ddc2c19d",
   "metadata": {},
   "outputs": [
    {
     "name": "stdin",
     "output_type": "stream",
     "text": [
      "Enter binary data with parity bit:  11011\n"
     ]
    },
    {
     "name": "stdout",
     "output_type": "stream",
     "text": [
      "The binary data 11011 has correct parity.\n"
     ]
    }
   ],
   "source": [
    "def check_parity(data):\n",
    "    # Count the number of 1's in the data\n",
    "    count_ones = data.count('1')\n",
    "    \n",
    "    # If count of 1's is even, the parity bit is correct\n",
    "    if count_ones % 2 == 0:\n",
    "        return True\n",
    "    else:\n",
    "        return False\n",
    "        \n",
    "binary_data = input(\"Enter binary data with parity bit: \")\n",
    "is_valid = check_parity(binary_data)\n",
    "\n",
    "if is_valid:\n",
    "    print(f\"The binary data {binary_data} has correct parity.\")\n",
    "else:\n",
    "    print(f\"The binary data {binary_data} has incorrect parity.\")\n"
   ]
  },
  {
   "cell_type": "code",
   "execution_count": null,
   "id": "3cd48653-c3ed-4a9e-8d35-7bf2edbaa486",
   "metadata": {},
   "outputs": [],
   "source": []
  },
  {
   "cell_type": "code",
   "execution_count": null,
   "id": "20a9c5ae-bcb9-4851-ad8d-b965d940f178",
   "metadata": {},
   "outputs": [],
   "source": []
  }
 ],
 "metadata": {
  "kernelspec": {
   "display_name": "Python 3 (ipykernel)",
   "language": "python",
   "name": "python3"
  },
  "language_info": {
   "codemirror_mode": {
    "name": "ipython",
    "version": 3
   },
   "file_extension": ".py",
   "mimetype": "text/x-python",
   "name": "python",
   "nbconvert_exporter": "python",
   "pygments_lexer": "ipython3",
   "version": "3.11.2"
  }
 },
 "nbformat": 4,
 "nbformat_minor": 5
}
