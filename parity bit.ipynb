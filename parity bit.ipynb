{
 "cells": [
  {
   "cell_type": "code",
   "execution_count": 3,
   "id": "519a4869-03f0-43cd-8375-bee3e165e366",
   "metadata": {},
   "outputs": [
    {
     "name": "stdin",
     "output_type": "stream",
     "text": [
      "Enter binary data:  101001\n"
     ]
    },
    {
     "name": "stdout",
     "output_type": "stream",
     "text": [
      "The parity bit for 101001 is 1\n"
     ]
    }
   ],
   "source": [
    "def generate_parity(data):\n",
    "    # Count the number of 1's in the data\n",
    "    count_ones = data.count('1')\n",
    "    \n",
    "    # If count of 1's is odd, return '1' for even parity\n",
    "    if count_ones % 2 != 0:\n",
    "        return '1'\n",
    "    else:\n",
    "        return '0'\n",
    "        \n",
    "binary_data = input(\"Enter binary data: \")\n",
    "parity_bit = generate_parity(binary_data)\n",
    "print(f\"The parity bit for {binary_data} is {parity_bit}\")"
   ]
  },
  {
   "cell_type": "code",
   "execution_count": null,
   "id": "09e73c42-1dbc-4f21-a21d-eac87e65083e",
   "metadata": {},
   "outputs": [],
   "source": []
  }
 ],
 "metadata": {
  "kernelspec": {
   "display_name": "Python 3 (ipykernel)",
   "language": "python",
   "name": "python3"
  },
  "language_info": {
   "codemirror_mode": {
    "name": "ipython",
    "version": 3
   },
   "file_extension": ".py",
   "mimetype": "text/x-python",
   "name": "python",
   "nbconvert_exporter": "python",
   "pygments_lexer": "ipython3",
   "version": "3.11.2"
  }
 },
 "nbformat": 4,
 "nbformat_minor": 5
}
